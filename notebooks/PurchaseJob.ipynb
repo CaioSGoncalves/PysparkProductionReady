{
 "cells": [
  {
   "cell_type": "code",
   "execution_count": 1,
   "metadata": {},
   "outputs": [],
   "source": [
    "from pyspark.sql import SparkSession\n",
    "\n",
    "# Spark session & context\n",
    "spark = SparkSession.builder.master('local').getOrCreate()\n",
    "sc = spark.sparkContext"
   ]
  },
  {
   "cell_type": "code",
   "execution_count": 2,
   "metadata": {},
   "outputs": [],
   "source": [
    "# Define schema\n",
    "from pyspark.sql.types import *\n",
    "schema = StructType([\n",
    "        StructField(\"purchase_id\", IntegerType(), True),\n",
    "        StructField(\"user_id\", IntegerType(), True),\n",
    "        StructField(\"product_id\", IntegerType(), True),\n",
    "        StructField(\"quantity\", IntegerType(), True),\n",
    "        StructField(\"timestamp\", DateType(), True)\n",
    "    ])"
   ]
  },
  {
   "cell_type": "code",
   "execution_count": 3,
   "metadata": {},
   "outputs": [
    {
     "name": "stdout",
     "output_type": "stream",
     "text": [
      "root\n",
      " |-- purchase_id: integer (nullable = true)\n",
      " |-- user_id: integer (nullable = true)\n",
      " |-- product_id: integer (nullable = true)\n",
      " |-- quantity: integer (nullable = true)\n",
      " |-- timestamp: date (nullable = true)\n",
      "\n",
      "+-----------+-------+----------+--------+----------+\n",
      "|purchase_id|user_id|product_id|quantity| timestamp|\n",
      "+-----------+-------+----------+--------+----------+\n",
      "|          1|      1|         1|      10|2019-02-01|\n",
      "|          2|      2|         2|      20|2019-02-01|\n",
      "+-----------+-------+----------+--------+----------+\n",
      "\n"
     ]
    }
   ],
   "source": [
    "# Extract\n",
    "purchase = spark.read.format(\"csv\").option(\"header\", True).schema(schema).load(\"/hdfs/raw/purchase\")\n",
    "\n",
    "purchase.printSchema()\n",
    "purchase.show()\n",
    "purchase.createOrReplaceTempView(\"purchase\")"
   ]
  },
  {
   "cell_type": "code",
   "execution_count": 4,
   "metadata": {},
   "outputs": [
    {
     "name": "stdout",
     "output_type": "stream",
     "text": [
      "root\n",
      " |-- purchase_id: integer (nullable = true)\n",
      " |-- user_id: integer (nullable = true)\n",
      " |-- product_id: integer (nullable = true)\n",
      " |-- quantity: integer (nullable = true)\n",
      " |-- timestamp: date (nullable = true)\n",
      " |-- day: integer (nullable = true)\n",
      " |-- month: integer (nullable = true)\n",
      " |-- year: integer (nullable = true)\n",
      "\n",
      "+-----------+-------+----------+--------+----------+---+-----+----+\n",
      "|purchase_id|user_id|product_id|quantity| timestamp|day|month|year|\n",
      "+-----------+-------+----------+--------+----------+---+-----+----+\n",
      "|          1|      1|         1|      10|2019-02-01|  1|    2|2019|\n",
      "|          2|      2|         2|      20|2019-02-01|  1|    2|2019|\n",
      "+-----------+-------+----------+--------+----------+---+-----+----+\n",
      "\n"
     ]
    }
   ],
   "source": [
    "# Transform: new columns -> DAY - MONTH - YEAR\n",
    "processed_purchase = spark.sql(\"\"\"\n",
    "SELECT \n",
    "    purchase_id,\n",
    "    user_id,\n",
    "    product_id,\n",
    "    quantity,\n",
    "    timestamp,\n",
    "    \n",
    "    DAY(timestamp) as day,\n",
    "    MONTH(timestamp) as month,\n",
    "    YEAR(timestamp) as year\n",
    "    \n",
    "FROM purchase\n",
    "\n",
    "\"\"\")\n",
    "\n",
    "processed_purchase.printSchema()\n",
    "processed_purchase.show()"
   ]
  },
  {
   "cell_type": "code",
   "execution_count": 5,
   "metadata": {},
   "outputs": [],
   "source": [
    "# Load into parquet\n",
    "processed_purchase.write.format(\"parquet\").mode(\"append\").save(\"/hdfs/processed/purchase/\")"
   ]
  },
  {
   "cell_type": "code",
   "execution_count": null,
   "metadata": {},
   "outputs": [],
   "source": []
  }
 ],
 "metadata": {
  "kernelspec": {
   "display_name": "Python 3",
   "language": "python",
   "name": "python3"
  },
  "language_info": {
   "codemirror_mode": {
    "name": "ipython",
    "version": 3
   },
   "file_extension": ".py",
   "mimetype": "text/x-python",
   "name": "python",
   "nbconvert_exporter": "python",
   "pygments_lexer": "ipython3",
   "version": "3.8.5"
  }
 },
 "nbformat": 4,
 "nbformat_minor": 4
}
