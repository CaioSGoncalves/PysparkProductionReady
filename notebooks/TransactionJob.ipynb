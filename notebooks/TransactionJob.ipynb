{
 "cells": [
  {
   "cell_type": "code",
   "execution_count": 1,
   "metadata": {},
   "outputs": [],
   "source": [
    "from pyspark.sql import SparkSession\n",
    "\n",
    "# Spark session & context\n",
    "spark = SparkSession.builder.master('local').getOrCreate()\n",
    "sc = spark.sparkContext"
   ]
  },
  {
   "cell_type": "code",
   "execution_count": 2,
   "metadata": {},
   "outputs": [],
   "source": [
    "# Define schema\n",
    "from pyspark.sql.types import *\n",
    "schema = StructType([\n",
    "        StructField(\"user_id\", IntegerType(), True),\n",
    "        StructField(\"type\", StringType(), True),\n",
    "        StructField(\"value\", FloatType(), True),\n",
    "        StructField(\"timestamp\", DateType(), True)\n",
    "    ])"
   ]
  },
  {
   "cell_type": "code",
   "execution_count": 3,
   "metadata": {},
   "outputs": [
    {
     "name": "stdout",
     "output_type": "stream",
     "text": [
      "root\n",
      " |-- user_id: integer (nullable = true)\n",
      " |-- type: string (nullable = true)\n",
      " |-- value: float (nullable = true)\n",
      " |-- timestamp: date (nullable = true)\n",
      "\n",
      "+-------+--------+-----+----------+\n",
      "|user_id|    type|value| timestamp|\n",
      "+-------+--------+-----+----------+\n",
      "|      1|DEPOSITO|200.0|2019-02-01|\n",
      "|      1|DEPOSITO|100.0|2019-02-02|\n",
      "|      2|DEPOSITO|500.0|2019-02-02|\n",
      "|      1|   SAQUE|150.0|2019-02-03|\n",
      "|      2|DEPOSITO|500.0|2019-02-03|\n",
      "+-------+--------+-----+----------+\n",
      "\n"
     ]
    }
   ],
   "source": [
    "# Extract\n",
    "transaction = spark.read.format(\"csv\").option(\"header\", True).schema(schema).load(\"/hdfs/raw/transaction\")\n",
    "\n",
    "transaction.printSchema()\n",
    "transaction.show()\n",
    "transaction.createOrReplaceTempView(\"transaction\")"
   ]
  },
  {
   "cell_type": "code",
   "execution_count": 4,
   "metadata": {},
   "outputs": [
    {
     "name": "stdout",
     "output_type": "stream",
     "text": [
      "root\n",
      " |-- user_id: integer (nullable = true)\n",
      " |-- balance: double (nullable = true)\n",
      "\n",
      "+-------+-------+\n",
      "|user_id|balance|\n",
      "+-------+-------+\n",
      "|      1|  150.0|\n",
      "|      2| 1000.0|\n",
      "+-------+-------+\n",
      "\n"
     ]
    }
   ],
   "source": [
    "# Transform: new columns -> DAY - MONTH - YEAR\n",
    "spark.sql(\"\"\"\n",
    "SELECT\n",
    "    user_id,\n",
    "    timestamp,\n",
    "    \n",
    "    CASE\n",
    "        WHEN (type = 'SAQUE') THEN (-1 * value)\n",
    "        ELSE value\n",
    "    END as value\n",
    "    \n",
    "FROM transaction\n",
    "\"\"\").createOrReplaceTempView(\"transaction\")\n",
    "    \n",
    "processed_transaction = spark.sql(\"\"\"\n",
    "SELECT\n",
    "    user_id,\n",
    "    SUM(value) as balance\n",
    "    \n",
    "FROM transaction\n",
    "\n",
    "GROUP BY 1\n",
    "\n",
    "\"\"\")\n",
    "\n",
    "processed_transaction.printSchema()\n",
    "processed_transaction.show()"
   ]
  },
  {
   "cell_type": "code",
   "execution_count": 11,
   "metadata": {},
   "outputs": [],
   "source": [
    "# Load into parquet\n",
    "processed_transaction.write.format(\"parquet\").mode(\"overwrite\").save(\"/hdfs/processed/transaction/\")"
   ]
  },
  {
   "cell_type": "code",
   "execution_count": null,
   "metadata": {},
   "outputs": [],
   "source": []
  }
 ],
 "metadata": {
  "kernelspec": {
   "display_name": "Python 3",
   "language": "python",
   "name": "python3"
  },
  "language_info": {
   "codemirror_mode": {
    "name": "ipython",
    "version": 3
   },
   "file_extension": ".py",
   "mimetype": "text/x-python",
   "name": "python",
   "nbconvert_exporter": "python",
   "pygments_lexer": "ipython3",
   "version": "3.8.5"
  }
 },
 "nbformat": 4,
 "nbformat_minor": 4
}
