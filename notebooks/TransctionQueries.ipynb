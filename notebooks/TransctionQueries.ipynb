{
 "cells": [
  {
   "cell_type": "code",
   "execution_count": 1,
   "metadata": {},
   "outputs": [],
   "source": [
    "from pyspark.sql import SparkSession\n",
    "\n",
    "# Spark session & context\n",
    "spark = SparkSession.builder.master('local').getOrCreate()\n",
    "sc = spark.sparkContext"
   ]
  },
  {
   "cell_type": "code",
   "execution_count": 2,
   "metadata": {},
   "outputs": [
    {
     "name": "stdout",
     "output_type": "stream",
     "text": [
      "root\n",
      " |-- user_id: string (nullable = true)\n",
      " |-- type: string (nullable = true)\n",
      " |-- value: string (nullable = true)\n",
      " |-- timestamp: string (nullable = true)\n",
      "\n",
      "+-------+--------+-----+-------------------+\n",
      "|user_id|    type|value|          timestamp|\n",
      "+-------+--------+-----+-------------------+\n",
      "|      1|DEPOSITO|  200|2019-02-01 15:00:00|\n",
      "|      1|DEPOSITO|  100|2019-02-02 15:00:00|\n",
      "|      2|DEPOSITO|  500|2019-02-02 15:00:00|\n",
      "|      1|   SAQUE|  150|2019-02-03 15:00:00|\n",
      "|      2|DEPOSITO|  500|2019-02-03 15:00:00|\n",
      "+-------+--------+-----+-------------------+\n",
      "\n"
     ]
    }
   ],
   "source": [
    "# PURCHASE - raw\n",
    "transaction = spark.read.format(\"csv\").option(\"header\", True).load(\"/hdfs/raw/transaction\")\n",
    "\n",
    "transaction.printSchema()\n",
    "transaction.show()"
   ]
  },
  {
   "cell_type": "code",
   "execution_count": 3,
   "metadata": {},
   "outputs": [
    {
     "name": "stdout",
     "output_type": "stream",
     "text": [
      "root\n",
      " |-- user_id: integer (nullable = true)\n",
      " |-- balance: double (nullable = true)\n",
      "\n",
      "+-------+-------+\n",
      "|user_id|balance|\n",
      "+-------+-------+\n",
      "|      1|  150.0|\n",
      "|      2| 1000.0|\n",
      "+-------+-------+\n",
      "\n"
     ]
    }
   ],
   "source": [
    "# PURCHASE - processed\n",
    "processed_transaction = spark.read.format(\"parquet\").load(\"/hdfs/processed/transaction/\")\n",
    "\n",
    "processed_transaction.printSchema()\n",
    "processed_transaction.show()"
   ]
  },
  {
   "cell_type": "code",
   "execution_count": null,
   "metadata": {},
   "outputs": [],
   "source": []
  }
 ],
 "metadata": {
  "kernelspec": {
   "display_name": "Python 3",
   "language": "python",
   "name": "python3"
  },
  "language_info": {
   "codemirror_mode": {
    "name": "ipython",
    "version": 3
   },
   "file_extension": ".py",
   "mimetype": "text/x-python",
   "name": "python",
   "nbconvert_exporter": "python",
   "pygments_lexer": "ipython3",
   "version": "3.8.5"
  }
 },
 "nbformat": 4,
 "nbformat_minor": 4
}
