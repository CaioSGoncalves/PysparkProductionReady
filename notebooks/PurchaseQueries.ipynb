{
 "cells": [
  {
   "cell_type": "code",
   "execution_count": 1,
   "metadata": {},
   "outputs": [],
   "source": [
    "from pyspark.sql import SparkSession\n",
    "\n",
    "# Spark session & context\n",
    "spark = SparkSession.builder.master('local').getOrCreate()\n",
    "sc = spark.sparkContext"
   ]
  },
  {
   "cell_type": "code",
   "execution_count": 2,
   "metadata": {},
   "outputs": [
    {
     "name": "stdout",
     "output_type": "stream",
     "text": [
      "root\n",
      " |-- purchase_id: string (nullable = true)\n",
      " |-- user_id: string (nullable = true)\n",
      " |-- product_id: string (nullable = true)\n",
      " |-- quantity: string (nullable = true)\n",
      " |-- timestamp: string (nullable = true)\n",
      "\n",
      "+-----------+-------+----------+--------+-------------------+\n",
      "|purchase_id|user_id|product_id|quantity|          timestamp|\n",
      "+-----------+-------+----------+--------+-------------------+\n",
      "|          1|      1|         1|      10|2019-02-01 15:00:00|\n",
      "|          2|      2|         2|      20|2019-02-01 16:00:00|\n",
      "+-----------+-------+----------+--------+-------------------+\n",
      "\n"
     ]
    }
   ],
   "source": [
    "# PURCHASE - raw\n",
    "purchase = spark.read.format(\"csv\").option(\"header\", True).load(\"/hdfs/raw/purchase\")\n",
    "\n",
    "purchase.printSchema()\n",
    "purchase.show()"
   ]
  },
  {
   "cell_type": "code",
   "execution_count": 3,
   "metadata": {},
   "outputs": [
    {
     "name": "stdout",
     "output_type": "stream",
     "text": [
      "root\n",
      " |-- purchase_id: integer (nullable = true)\n",
      " |-- user_id: integer (nullable = true)\n",
      " |-- product_id: integer (nullable = true)\n",
      " |-- quantity: integer (nullable = true)\n",
      " |-- timestamp: date (nullable = true)\n",
      " |-- day: integer (nullable = true)\n",
      " |-- month: integer (nullable = true)\n",
      " |-- year: integer (nullable = true)\n",
      "\n",
      "+-----------+-------+----------+--------+----------+---+-----+----+\n",
      "|purchase_id|user_id|product_id|quantity| timestamp|day|month|year|\n",
      "+-----------+-------+----------+--------+----------+---+-----+----+\n",
      "|          1|      1|         1|      10|2019-02-01|  1|    2|2019|\n",
      "|          2|      2|         2|      20|2019-02-01|  1|    2|2019|\n",
      "+-----------+-------+----------+--------+----------+---+-----+----+\n",
      "\n"
     ]
    }
   ],
   "source": [
    "# PURCHASE - processed\n",
    "processed_purchase = spark.read.format(\"parquet\").load(\"/hdfs/processed/purchase/\")\n",
    "\n",
    "processed_purchase.printSchema()\n",
    "processed_purchase.show()"
   ]
  },
  {
   "cell_type": "code",
   "execution_count": null,
   "metadata": {},
   "outputs": [],
   "source": []
  }
 ],
 "metadata": {
  "kernelspec": {
   "display_name": "Python 3",
   "language": "python",
   "name": "python3"
  },
  "language_info": {
   "codemirror_mode": {
    "name": "ipython",
    "version": 3
   },
   "file_extension": ".py",
   "mimetype": "text/x-python",
   "name": "python",
   "nbconvert_exporter": "python",
   "pygments_lexer": "ipython3",
   "version": "3.8.5"
  }
 },
 "nbformat": 4,
 "nbformat_minor": 4
}
